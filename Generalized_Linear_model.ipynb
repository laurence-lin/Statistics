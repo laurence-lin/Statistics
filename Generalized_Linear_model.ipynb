{
  "nbformat": 4,
  "nbformat_minor": 0,
  "metadata": {
    "colab": {
      "name": "Generalized_Linear_model.ipynb",
      "provenance": [],
      "authorship_tag": "ABX9TyNJxEX4mKHC1N4Vs9lDgyNv",
      "include_colab_link": true
    },
    "kernelspec": {
      "name": "python3",
      "display_name": "Python 3"
    },
    "language_info": {
      "name": "python"
    }
  },
  "cells": [
    {
      "cell_type": "markdown",
      "metadata": {
        "id": "view-in-github",
        "colab_type": "text"
      },
      "source": [
        "<a href=\"https://colab.research.google.com/github/laurence-lin/Statistics/blob/main/Generalized_Linear_model.ipynb\" target=\"_parent\"><img src=\"https://colab.research.google.com/assets/colab-badge.svg\" alt=\"Open In Colab\"/></a>"
      ]
    },
    {
      "cell_type": "markdown",
      "metadata": {
        "id": "Hp7neARaIyET"
      },
      "source": [
        "### **統計知識: 紀錄一些統計學概念與定理**\n",
        "#### **名詞解釋:** \n",
        "#### **大數法則**: 當一個隨機事件的發生次數夠多時，特定結果的算術平均值有越高的機率接近期望值。例如: 投擲硬幣正反面出現的機率期望值為1/2，投10次有可能只出現2次正面。然而當投擲次數增加，例如100000次時，出現正面的機率就會接近1/2。\n",
        "\n",
        "#### **中央極限定理**: 從任何隨機變數的母體，每次隨機抽取**大量**的樣本，只要樣本數N夠大，則: \n",
        "\n",
        "**1. 每組樣本的平均值會接近常態分佈** \n",
        "\n",
        "**2. 每組樣本平均數的平均會接近母體平均值**\n",
        "\n",
        "**3. 每組樣本平均數的標準差會接近母體標準差/根號N**\n",
        "\n",
        "標準差公式:\n",
        "\n",
        "![標準差](https://wikimedia.org/api/rest_v1/media/math/render/svg/7b165a48481efe07c6c6430c8d2e86f8e723da9f)\n",
        "\n",
        "#### **統計假設**: 給定一個 null hypothesis H0(**例如: 資料X呈現常態分布)**, 為了驗證H0是否正確，提出一個否定假設H1。若H1透過統計方法驗證成立，則原H0被否決。若H1用統計方法驗證失敗，則H0假設為真。統計方法的驗證基準常使用p-value。\n",
        "\n",
        "#### **Type-1 error & Type-2 error**: 若H0事實上成立，而H1經過統計驗證拒絕H0，此為 Type-1 Error，我們的統計結果發生了False positive。若H0事實上錯誤，但H1統計驗證結果沒有拒絕H0，則此為Type-2 Error，我們的統計結果發生 False negative。False positive或negative以H1驗證結果為基準。\n",
        "\n",
        "#### **Correlation 和 Covariance:** \n",
        "兩者都是用來判定兩個隨機變數之間的linear relationship，\n",
        "\n",
        "但是Correlation有經過標準化計算，因此求線性相關數值時不受到data scale的影響。其數值介於 **-1到1之間**，且可用數值大小來判斷線性相關的程度。\n",
        "\n",
        "而Covariance沒有經過標準化計算，當兩隨機變數X, Y的scale相差很大時數值會受到影響。其數值介於**-inf到inf之間**。Covariance可用來觀察X和Y線性相關的方向(正相關或負相關)，但無法衡量相關的程度。\n",
        "\n",
        "**Correlation 公式:**\n",
        "\n",
        "![Correlation公式](https://wikimedia.org/api/rest_v1/media/math/render/svg/93185aed3047ef42fa0f1b6e389a4e89a5654afa)\n",
        "\n",
        "**Covariance 公式:**\n",
        "\n",
        "![Discrete random variable的Covariance公式](https://wikimedia.org/api/rest_v1/media/math/render/svg/6c66807f5054d1175f41b90485faadfb0aaf6104)\n"
      ]
    },
    {
      "cell_type": "code",
      "metadata": {
        "colab": {
          "base_uri": "https://localhost:8080/"
        },
        "id": "w3mlpsJhweKV",
        "outputId": "1de4efa4-a223-4650-de42-b452412893c7"
      },
      "source": [
        "import numpy as np\n",
        "import pandas as pd\n",
        "\n",
        "import statsmodels.api as sm\n",
        "\n",
        "import matplotlib.pyplot as plt\n",
        "import plotly.express as px\n",
        "\n",
        "print('library imported.')\n"
      ],
      "execution_count": 1,
      "outputs": [
        {
          "output_type": "stream",
          "text": [
            "/usr/local/lib/python3.7/dist-packages/statsmodels/tools/_testing.py:19: FutureWarning: pandas.util.testing is deprecated. Use the functions in the public API at pandas.testing instead.\n",
            "  import pandas.util.testing as tm\n"
          ],
          "name": "stderr"
        },
        {
          "output_type": "stream",
          "text": [
            "library imported.\n"
          ],
          "name": "stdout"
        }
      ]
    },
    {
      "cell_type": "code",
      "metadata": {
        "id": "HO8KWZ9pw0jN"
      },
      "source": [
        ""
      ],
      "execution_count": null,
      "outputs": []
    }
  ]
}